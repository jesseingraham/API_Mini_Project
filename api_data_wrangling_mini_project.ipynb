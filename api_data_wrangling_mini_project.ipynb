{
 "cells": [
  {
   "cell_type": "markdown",
   "metadata": {},
   "source": [
    "This exercise will require you to pull some data from https://data.nasdaq.com/ (formerly Quandl API)."
   ]
  },
  {
   "cell_type": "markdown",
   "metadata": {},
   "source": [
    "As a first step, you will need to register a free account on the https://data.nasdaq.com/ website."
   ]
  },
  {
   "cell_type": "markdown",
   "metadata": {},
   "source": [
    "After you register, you will be provided with a unique API key, that you should store:\n",
    "\n",
    "*Note*: Use a `.env` file and put your key in there and `python-dotenv` to access it in this notebook. \n",
    "\n",
    "The code below uses a key that was used when generating this project but has since been deleted. Never submit your keys to source control. There is a `.env-example` file in this repository to illusrtate what you need. Copy that to a file called `.env` and use your own api key in that `.env` file. Make sure you also have a `.gitignore` file with a line for `.env` added to it. \n",
    "\n",
    "The standard Python gitignore is [here](https://github.com/github/gitignore/blob/master/Python.gitignore) you can just copy that. "
   ]
  },
  {
   "cell_type": "code",
   "execution_count": 1,
   "metadata": {},
   "outputs": [],
   "source": [
    "# get api key from your .env file\n",
    "import os\n",
    "from dotenv import load_dotenv\n",
    "\n",
    "load_dotenv()\n",
    "API_KEY = os.getenv('NASDAQ_API_KEY')\n",
    "\n",
    "#print(API_KEY)"
   ]
  },
  {
   "cell_type": "markdown",
   "metadata": {},
   "source": [
    "Nasdaq Data has a large number of data sources, but, unfortunately, most of them require a Premium subscription. Still, there are also a good number of free datasets."
   ]
  },
  {
   "cell_type": "markdown",
   "metadata": {},
   "source": [
    "For this mini project, we will focus on equities data from the Frankfurt Stock Exhange (FSE), which is available for free. We'll try and analyze the stock prices of a company called Carl Zeiss Meditec, which manufactures tools for eye examinations, as well as medical lasers for laser eye surgery: https://www.zeiss.com/meditec/int/home.html. The company is listed under the stock ticker AFX_X."
   ]
  },
  {
   "cell_type": "markdown",
   "metadata": {},
   "source": [
    "You can find the detailed Nasdaq Data API instructions here: https://docs.data.nasdaq.com/docs/in-depth-usage"
   ]
  },
  {
   "cell_type": "markdown",
   "metadata": {},
   "source": [
    "While there is a dedicated Python package for connecting to the Nasdaq API, we would prefer that you use the *requests* package, which can be easily downloaded using *pip* or *conda*. You can find the documentation for the package here: http://docs.python-requests.org/en/master/ "
   ]
  },
  {
   "cell_type": "markdown",
   "metadata": {},
   "source": [
    "Finally, apart from the *requests* package, you are encouraged to not use any third party Python packages, such as *pandas*, and instead focus on what's available in the Python Standard Library (the *collections* module might come in handy: https://pymotw.com/3/collections/).\n",
    "Also, since you won't have access to DataFrames, you are encouraged to us Python's native data structures - preferably dictionaries, though some questions can also be answered using lists.\n",
    "You can read more on these data structures here: https://docs.python.org/3/tutorial/datastructures.html"
   ]
  },
  {
   "cell_type": "markdown",
   "metadata": {},
   "source": [
    "Keep in mind that the JSON responses you will be getting from the API map almost one-to-one to Python's dictionaries. Unfortunately, they can be very nested, so make sure you read up on indexing dictionaries in the documentation provided above."
   ]
  },
  {
   "cell_type": "code",
   "execution_count": 221,
   "metadata": {},
   "outputs": [],
   "source": [
    "# First, import the relevant modules\n",
    "import requests\n",
    "import json\n",
    "from collections import Counter"
   ]
  },
  {
   "cell_type": "markdown",
   "metadata": {},
   "source": [
    "Note: API's can change a bit with each version, for this exercise it is reccomended to use the nasdaq api at `https://data.nasdaq.com/api/v3/`. This is the same api as what used to be quandl so `https://www.quandl.com/api/v3/` should work too.\n",
    "\n",
    "Hint: We are looking for the `AFX_X` data on the `datasets/FSE/` dataset."
   ]
  },
  {
   "cell_type": "code",
   "execution_count": 222,
   "metadata": {},
   "outputs": [],
   "source": [
    "# Now, call the Nasdaq API and pull out a small sample of the data (only one day) to get a glimpse\n",
    "# into the JSON structure that will be returned\n",
    "database_code = 'FSE'\n",
    "dataset_code = 'AFX_X'\n",
    "return_format = 'json'\n",
    "start_date = '2019-03-01'\n",
    "end_date = '2019-03-01'\n",
    "url = f'https://data.nasdaq.com/api/v3/datasets/{database_code}/{dataset_code}/data.{return_format}'\n",
    "r = requests.get(url + f'?api_key={API_KEY}&start_date={start_date}&end_date={end_date}')\n",
    "json_data = r.json()"
   ]
  },
  {
   "cell_type": "code",
   "execution_count": 223,
   "metadata": {},
   "outputs": [
    {
     "name": "stdout",
     "output_type": "stream",
     "text": [
      "dataset_data : <class 'dict'>\n",
      "\t limit : <class 'NoneType'>\n",
      "\t transform : <class 'NoneType'>\n",
      "\t column_index : <class 'NoneType'>\n",
      "\t column_names : <class 'list'>\n",
      "\t start_date : <class 'str'>\n",
      "\t end_date : <class 'str'>\n",
      "\t frequency : <class 'str'>\n",
      "\t data : <class 'list'>\n",
      "\t collapse : <class 'NoneType'>\n",
      "\t order : <class 'NoneType'>\n"
     ]
    }
   ],
   "source": [
    "# Inspect the JSON structure of the object you created, and take note of how nested it is,\n",
    "# as well as the overall structure\n",
    "for k, v in json_data.items():\n",
    "    print(k,':',type(v))\n",
    "    \n",
    "    for k2, v2 in json_data[k].items():\n",
    "        print('\\t',k2,':',type(v2))"
   ]
  },
  {
   "cell_type": "markdown",
   "metadata": {},
   "source": [
    "These are your tasks for this mini project:\n",
    "\n",
    "1. Collect data from the Franfurt Stock Exchange, for the ticker AFX_X, for the whole year 2017 (keep in mind that the date format is YYYY-MM-DD).\n",
    "2. Convert the returned JSON object into a Python dictionary.\n",
    "3. Calculate what the highest and lowest opening prices were for the stock in this period.\n",
    "4. What was the largest change in any one day (based on High and Low price)?\n",
    "5. What was the largest change between any two days (based on Closing Price)?\n",
    "6. What was the average daily trading volume during this year?\n",
    "7. (Optional) What was the median trading volume during this year. (Note: you may need to implement your own function for calculating the median.)"
   ]
  },
  {
   "cell_type": "code",
   "execution_count": 224,
   "metadata": {},
   "outputs": [],
   "source": [
    "# 1. Collect data from the Franfurt Stock Exchange, for the ticker AFX_X, for the whole year 2017\n",
    "#    (keep in mind that the date format is YYYY-MM-DD).\n",
    "\n",
    "# define parameters to query\n",
    "database_code = 'FSE'\n",
    "dataset_code = 'AFX_X'\n",
    "return_format = 'json'\n",
    "start_date = '2017-01-01'\n",
    "end_date = '2017-12-31'\n",
    "url = f'https://data.nasdaq.com/api/v3/datasets/{database_code}/{dataset_code}/data.{return_format}'\n",
    "params = f'?api_key={API_KEY}&start_date={start_date}&end_date={end_date}'\n",
    "# collect API response\n",
    "r = requests.get(url + params)"
   ]
  },
  {
   "cell_type": "code",
   "execution_count": 225,
   "metadata": {},
   "outputs": [],
   "source": [
    "# 2. Convert the returned JSON object into a Python dictionary.\n",
    "dict_data = r.json()"
   ]
  },
  {
   "cell_type": "code",
   "execution_count": 226,
   "metadata": {},
   "outputs": [
    {
     "name": "stdout",
     "output_type": "stream",
     "text": [
      "['Date', 'Open', 'High', 'Low', 'Close', 'Change', 'Traded Volume', 'Turnover', 'Last Price of the Day', 'Daily Traded Units', 'Daily Turnover']\n"
     ]
    }
   ],
   "source": [
    "# Preview column names within dataset\n",
    "print(dict_data['dataset_data']['column_names'])"
   ]
  },
  {
   "cell_type": "code",
   "execution_count": 227,
   "metadata": {},
   "outputs": [
    {
     "name": "stdout",
     "output_type": "stream",
     "text": [
      "The lowest opening price for the stock in this period was $34.0\n",
      "The highest opening price for the stock in this period was $53.11\n"
     ]
    }
   ],
   "source": [
    "# 3. Calculate what the highest and lowest opening prices were for the stock in this period.\n",
    "\n",
    "# Get index of 'Open' column within data\n",
    "open_index = dict_data['dataset_data']['column_names'].index('Open')\n",
    "\n",
    "# Test for highest and lowest opening prices\n",
    "high_low_prices_initialized = False\n",
    "for ind, row in enumerate(dict_data['dataset_data']['data']):\n",
    "    \n",
    "    # initialize highest and lowest opening prices\n",
    "    if row[open_index] is not None:\n",
    "        if not high_low_prices_initialized:\n",
    "            highest_opening_price = row[open_index]\n",
    "            lowest_opening_price = row[open_index]\n",
    "            high_low_prices_initialized = True\n",
    "        \n",
    "        # test for lowest price\n",
    "        if row[open_index] < lowest_opening_price:\n",
    "            lowest_opening_price = row[open_index]\n",
    "\n",
    "        # test for highest price\n",
    "        if row[open_index] > highest_opening_price:\n",
    "            highest_opening_price = row[open_index]\n",
    "\n",
    "print('The lowest opening price for the stock in this period was $' + str(lowest_opening_price))\n",
    "print('The highest opening price for the stock in this period was $' + str(highest_opening_price))"
   ]
  },
  {
   "cell_type": "code",
   "execution_count": 228,
   "metadata": {},
   "outputs": [
    {
     "name": "stdout",
     "output_type": "stream",
     "text": [
      "The largest change in any one day (based on High and Low price) was $2.8100000000000023\n"
     ]
    }
   ],
   "source": [
    "# 4. What was the largest change in any one day (based on High and Low price)?\n",
    "\n",
    "# Get indices of 'High' and 'Low' columns within data\n",
    "high_index = dict_data['dataset_data']['column_names'].index('High')\n",
    "low_index = dict_data['dataset_data']['column_names'].index('Low')\n",
    "\n",
    "# Test for largest daily change based on high and low prices\n",
    "largest_daily_change = 0.0\n",
    "for ind, row in enumerate(dict_data['dataset_data']['data']):\n",
    "    \n",
    "    # initialize highest and lowest opening prices\n",
    "    if row[open_index] is not None:\n",
    "        \n",
    "        # test for largest daily change\n",
    "        if (row[high_index] - row[low_index]) > largest_daily_change:\n",
    "            largest_daily_change = row[high_index] - row[low_index]\n",
    "\n",
    "print('The largest change in any one day (based on High and Low price) was $' + str(largest_daily_change))"
   ]
  },
  {
   "cell_type": "code",
   "execution_count": 229,
   "metadata": {},
   "outputs": [
    {
     "name": "stdout",
     "output_type": "stream",
     "text": [
      "The largest change between any two days (based on Closing Price) was $1.75\n"
     ]
    }
   ],
   "source": [
    "# 5. What was the largest change between any two days (based on Closing Price)?\n",
    "\n",
    "# Get index of 'Close' column within data\n",
    "close_index = dict_data['dataset_data']['column_names'].index('Close')\n",
    "\n",
    "# Test for largest change between any two days based on Closing Price\n",
    "largest_two_day_change = 0.0\n",
    "for ind, row in enumerate(dict_data['dataset_data']['data']):\n",
    "    if ind > 0:\n",
    "        # initialize highest and lowest opening prices\n",
    "        if (row[close_index] is not None) and (row[close_index - 1] is not None):\n",
    "\n",
    "            # test for largest daily change\n",
    "            if (row[close_index] - row[close_index - 1]) > largest_two_day_change:\n",
    "                largest_two_day_change = row[close_index] - row[close_index - 1]\n",
    "\n",
    "print('The largest change between any two days (based on Closing Price) was $' + str(largest_two_day_change))"
   ]
  },
  {
   "cell_type": "code",
   "execution_count": 230,
   "metadata": {},
   "outputs": [
    {
     "name": "stdout",
     "output_type": "stream",
     "text": [
      "The average daily trading volume during the year 2017 was $89124.33725490196\n"
     ]
    }
   ],
   "source": [
    "# 6. What was the average daily trading volume during this year?\n",
    "\n",
    "# Get index of 'Traded Volume' column within data\n",
    "traded_volume_index = dict_data['dataset_data']['column_names'].index('Traded Volume')\n",
    "\n",
    "# Record daily traded volume\n",
    "daily_trade_vol_sum = 0.0\n",
    "daily_count = 0\n",
    "for ind, row in enumerate(dict_data['dataset_data']['data']):\n",
    "    \n",
    "    # initialize highest and lowest opening prices\n",
    "    if row[traded_volume_index] is not None:\n",
    "\n",
    "        # sum daily traded volume\n",
    "        daily_trade_vol_sum = daily_trade_vol_sum + row[traded_volume_index]\n",
    "        daily_count = daily_count + 1\n",
    "\n",
    "average_daily_trade_volume = daily_trade_vol_sum / daily_count\n",
    "\n",
    "print('The average daily trading volume during the year 2017 was $' + str(average_daily_trade_volume))"
   ]
  },
  {
   "cell_type": "code",
   "execution_count": 231,
   "metadata": {},
   "outputs": [
    {
     "name": "stdout",
     "output_type": "stream",
     "text": [
      "The median trading volume during the year 2017 was $117165.0\n"
     ]
    }
   ],
   "source": [
    "# 7. (Optional) What was the median trading volume during this year.\n",
    "#    (Note: you may need to implement your own function for calculating the median.)\n",
    "\n",
    "# Get index of 'Traded Volume' column within data\n",
    "traded_volume_index = dict_data['dataset_data']['column_names'].index('Traded Volume')\n",
    "\n",
    "# Record daily traded volume into list\n",
    "trade_vol_list = []\n",
    "for ind, row in enumerate(dict_data['dataset_data']['data']):\n",
    "    \n",
    "    # initialize highest and lowest opening prices\n",
    "    if row[traded_volume_index] is not None:\n",
    "\n",
    "        # record daily traded volume\n",
    "        trade_vol_list.append(row[traded_volume_index])\n",
    "\n",
    "# find median\n",
    "if len(trade_vol_list) % 2 == 0: # even\n",
    "    median_index_low = len(trad_vol_list) / 2\n",
    "    median_index_high = median_index_low + 1\n",
    "    median_traded_volume = (trade_vol_list[median_index_high] - trade_vol_list[median_index_low]) / 2\n",
    "    print(median_index_low)\n",
    "elif len(trade_vol_list) % 2 != 0: # odd\n",
    "    median_index = int(len(trade_vol_list) / 2) + 1\n",
    "    median_traded_volume = trade_vol_list[median_index]\n",
    "\n",
    "print('The median trading volume during the year 2017 was $' + str(median_traded_volume))"
   ]
  },
  {
   "cell_type": "code",
   "execution_count": null,
   "metadata": {},
   "outputs": [],
   "source": []
  }
 ],
 "metadata": {
  "interpreter": {
   "hash": "7635eb1b9d0fe97add78a7368b6b431c09bb8ad5c42e437d64abdd99821c31ae"
  },
  "kernelspec": {
   "display_name": "Python 3 (ipykernel)",
   "language": "python",
   "name": "python3"
  },
  "language_info": {
   "codemirror_mode": {
    "name": "ipython",
    "version": 3
   },
   "file_extension": ".py",
   "mimetype": "text/x-python",
   "name": "python",
   "nbconvert_exporter": "python",
   "pygments_lexer": "ipython3",
   "version": "3.9.13"
  }
 },
 "nbformat": 4,
 "nbformat_minor": 4
}
